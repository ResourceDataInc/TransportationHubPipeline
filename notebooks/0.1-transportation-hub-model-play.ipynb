{
 "cells": [
  {
   "cell_type": "markdown",
   "id": "c453c476",
   "metadata": {},
   "source": [
    "# Transportation Hub Model Play\n",
    "\n",
    "This file is a space for tinkering with prototype models using transportation hub data."
   ]
  },
  {
   "cell_type": "code",
   "execution_count": 30,
   "id": "1893c000",
   "metadata": {},
   "outputs": [],
   "source": [
    "# Import libraries.\n",
    "import numpy as np\n",
    "import snowflake.connector\n",
    "from sklearn.linear_model import LinearRegression\n",
    "from sklearn.metrics import mean_squared_error, r2_score\n",
    "from sklearn.model_selection import train_test_split"
   ]
  },
  {
   "cell_type": "code",
   "execution_count": 2,
   "id": "5e1a0abf-f1cd-488e-aad0-c25d96389ba3",
   "metadata": {},
   "outputs": [],
   "source": [
    "# Set global variables.\n",
    "CREDENTIALS_FILE = 'credentials.txt'\n",
    "DATABASE_ROOT = 'TRANSPORTATION_HUB.HUB'"
   ]
  },
  {
   "cell_type": "code",
   "execution_count": 3,
   "id": "a7964f18",
   "metadata": {},
   "outputs": [],
   "source": [
    "# Read in Snowflake credentials.\n",
    "with open(CREDENTIALS_FILE, 'r') as f:\n",
    "    creds = f.readlines()\n",
    "    USER = creds[0].strip()\n",
    "    PASSWORD = creds[1].strip()\n",
    "    ACCOUNT = creds[2].strip()"
   ]
  },
  {
   "cell_type": "code",
   "execution_count": 4,
   "id": "119e36b6-2ecf-4774-aca9-6ea039b159a9",
   "metadata": {},
   "outputs": [
    {
     "name": "stdout",
     "output_type": "stream",
     "text": [
      "8.21.1\n"
     ]
    }
   ],
   "source": [
    "# Open a connection and test that it works.\n",
    "con = snowflake.connector.connect(\n",
    "    user=USER,\n",
    "    password=PASSWORD,\n",
    "    account=ACCOUNT,\n",
    ")\n",
    "cs = con.cursor()\n",
    "cs.execute(\"SELECT current_version()\")\n",
    "one_row = cs.fetchone()\n",
    "print(one_row[0])"
   ]
  },
  {
   "cell_type": "markdown",
   "id": "84aba469-0340-471d-9b87-556dc8327032",
   "metadata": {},
   "source": [
    "### \"Dumb\" Delay Predictions via Linear Regression\n",
    "\n",
    "**Description**: \n",
    "\n",
    "This is an intentionally bad model that attempts to predict a trip delay using a single-variable Linear Regression model.\n",
    "\n",
    "**Notes**:\n",
    "* When using [Time Series](https://www.tableau.com/learn/articles/time-series-analysis) data, you should generally use Time Series Analysis models like [Exponential Smoothing](https://www.statsmodels.org/dev/generated/statsmodels.tsa.holtwinters.ExponentialSmoothing.html)."
   ]
  },
  {
   "cell_type": "code",
   "execution_count": 5,
   "id": "06c1d0e2-f4c0-4a00-bab7-a379358b4406",
   "metadata": {},
   "outputs": [
    {
     "data": {
      "text/html": [
       "<div>\n",
       "<style scoped>\n",
       "    .dataframe tbody tr th:only-of-type {\n",
       "        vertical-align: middle;\n",
       "    }\n",
       "\n",
       "    .dataframe tbody tr th {\n",
       "        vertical-align: top;\n",
       "    }\n",
       "\n",
       "    .dataframe thead th {\n",
       "        text-align: right;\n",
       "    }\n",
       "</style>\n",
       "<table border=\"1\" class=\"dataframe\">\n",
       "  <thead>\n",
       "    <tr style=\"text-align: right;\">\n",
       "      <th></th>\n",
       "      <th>TRIP_DELAY_ID</th>\n",
       "      <th>YEAR</th>\n",
       "      <th>MONTH</th>\n",
       "      <th>DAY</th>\n",
       "      <th>DAY_OF_WEEK</th>\n",
       "      <th>TIME</th>\n",
       "      <th>TIMESTAMP</th>\n",
       "      <th>TRIP_ID</th>\n",
       "      <th>TRIP_STOP_SEQUENCE</th>\n",
       "      <th>STOP_LOCATION_ID</th>\n",
       "      <th>DELAY</th>\n",
       "    </tr>\n",
       "  </thead>\n",
       "  <tbody>\n",
       "    <tr>\n",
       "      <th>0</th>\n",
       "      <td>358857</td>\n",
       "      <td>2023</td>\n",
       "      <td>9</td>\n",
       "      <td>17</td>\n",
       "      <td>Sun</td>\n",
       "      <td>04:24:08</td>\n",
       "      <td>2023-09-17 04:24:08</td>\n",
       "      <td>12769269</td>\n",
       "      <td>1</td>\n",
       "      <td>9848</td>\n",
       "      <td>0.0</td>\n",
       "    </tr>\n",
       "    <tr>\n",
       "      <th>1</th>\n",
       "      <td>358926</td>\n",
       "      <td>2023</td>\n",
       "      <td>9</td>\n",
       "      <td>17</td>\n",
       "      <td>Sun</td>\n",
       "      <td>04:45:36</td>\n",
       "      <td>2023-09-17 04:45:36</td>\n",
       "      <td>12769269</td>\n",
       "      <td>8</td>\n",
       "      <td>9834</td>\n",
       "      <td>54.0</td>\n",
       "    </tr>\n",
       "    <tr>\n",
       "      <th>2</th>\n",
       "      <td>359022</td>\n",
       "      <td>2023</td>\n",
       "      <td>9</td>\n",
       "      <td>17</td>\n",
       "      <td>Sun</td>\n",
       "      <td>05:25:28</td>\n",
       "      <td>2023-09-17 05:25:28</td>\n",
       "      <td>12769269</td>\n",
       "      <td>22</td>\n",
       "      <td>8336</td>\n",
       "      <td>150.0</td>\n",
       "    </tr>\n",
       "    <tr>\n",
       "      <th>3</th>\n",
       "      <td>358871</td>\n",
       "      <td>2023</td>\n",
       "      <td>9</td>\n",
       "      <td>17</td>\n",
       "      <td>Sun</td>\n",
       "      <td>04:28:17</td>\n",
       "      <td>2023-09-17 04:28:17</td>\n",
       "      <td>12769269</td>\n",
       "      <td>1</td>\n",
       "      <td>9848</td>\n",
       "      <td>0.0</td>\n",
       "    </tr>\n",
       "    <tr>\n",
       "      <th>4</th>\n",
       "      <td>358909</td>\n",
       "      <td>2023</td>\n",
       "      <td>9</td>\n",
       "      <td>17</td>\n",
       "      <td>Sun</td>\n",
       "      <td>04:37:57</td>\n",
       "      <td>2023-09-17 04:37:57</td>\n",
       "      <td>12769269</td>\n",
       "      <td>5</td>\n",
       "      <td>9838</td>\n",
       "      <td>-17.0</td>\n",
       "    </tr>\n",
       "    <tr>\n",
       "      <th>...</th>\n",
       "      <td>...</td>\n",
       "      <td>...</td>\n",
       "      <td>...</td>\n",
       "      <td>...</td>\n",
       "      <td>...</td>\n",
       "      <td>...</td>\n",
       "      <td>...</td>\n",
       "      <td>...</td>\n",
       "      <td>...</td>\n",
       "      <td>...</td>\n",
       "      <td>...</td>\n",
       "    </tr>\n",
       "    <tr>\n",
       "      <th>1442288</th>\n",
       "      <td>1442256</td>\n",
       "      <td>2023</td>\n",
       "      <td>9</td>\n",
       "      <td>25</td>\n",
       "      <td>Mon</td>\n",
       "      <td>07:20:48</td>\n",
       "      <td>2023-09-25 07:20:48</td>\n",
       "      <td>12810486</td>\n",
       "      <td>11</td>\n",
       "      <td>13713</td>\n",
       "      <td>286.0</td>\n",
       "    </tr>\n",
       "    <tr>\n",
       "      <th>1442289</th>\n",
       "      <td>1442257</td>\n",
       "      <td>2023</td>\n",
       "      <td>9</td>\n",
       "      <td>25</td>\n",
       "      <td>Mon</td>\n",
       "      <td>07:21:04</td>\n",
       "      <td>2023-09-25 07:21:04</td>\n",
       "      <td>12810486</td>\n",
       "      <td>11</td>\n",
       "      <td>13713</td>\n",
       "      <td>287.0</td>\n",
       "    </tr>\n",
       "    <tr>\n",
       "      <th>1442290</th>\n",
       "      <td>1442265</td>\n",
       "      <td>2023</td>\n",
       "      <td>9</td>\n",
       "      <td>25</td>\n",
       "      <td>Mon</td>\n",
       "      <td>07:24:52</td>\n",
       "      <td>2023-09-25 07:24:52</td>\n",
       "      <td>12810486</td>\n",
       "      <td>13</td>\n",
       "      <td>13715</td>\n",
       "      <td>282.0</td>\n",
       "    </tr>\n",
       "    <tr>\n",
       "      <th>1442291</th>\n",
       "      <td>1442271</td>\n",
       "      <td>2023</td>\n",
       "      <td>9</td>\n",
       "      <td>25</td>\n",
       "      <td>Mon</td>\n",
       "      <td>07:27:10</td>\n",
       "      <td>2023-09-25 07:27:10</td>\n",
       "      <td>12810486</td>\n",
       "      <td>14</td>\n",
       "      <td>13716</td>\n",
       "      <td>303.0</td>\n",
       "    </tr>\n",
       "    <tr>\n",
       "      <th>1442292</th>\n",
       "      <td>1442293</td>\n",
       "      <td>2023</td>\n",
       "      <td>9</td>\n",
       "      <td>26</td>\n",
       "      <td>Tue</td>\n",
       "      <td>07:25:24</td>\n",
       "      <td>2023-09-26 07:25:24</td>\n",
       "      <td>12810690</td>\n",
       "      <td>2</td>\n",
       "      <td>7601</td>\n",
       "      <td>0.0</td>\n",
       "    </tr>\n",
       "  </tbody>\n",
       "</table>\n",
       "<p>1442293 rows × 11 columns</p>\n",
       "</div>"
      ],
      "text/plain": [
       "         TRIP_DELAY_ID  YEAR  MONTH  DAY DAY_OF_WEEK      TIME  \\\n",
       "0               358857  2023      9   17         Sun  04:24:08   \n",
       "1               358926  2023      9   17         Sun  04:45:36   \n",
       "2               359022  2023      9   17         Sun  05:25:28   \n",
       "3               358871  2023      9   17         Sun  04:28:17   \n",
       "4               358909  2023      9   17         Sun  04:37:57   \n",
       "...                ...   ...    ...  ...         ...       ...   \n",
       "1442288        1442256  2023      9   25         Mon  07:20:48   \n",
       "1442289        1442257  2023      9   25         Mon  07:21:04   \n",
       "1442290        1442265  2023      9   25         Mon  07:24:52   \n",
       "1442291        1442271  2023      9   25         Mon  07:27:10   \n",
       "1442292        1442293  2023      9   26         Tue  07:25:24   \n",
       "\n",
       "                  TIMESTAMP   TRIP_ID  TRIP_STOP_SEQUENCE  STOP_LOCATION_ID  \\\n",
       "0       2023-09-17 04:24:08  12769269                   1              9848   \n",
       "1       2023-09-17 04:45:36  12769269                   8              9834   \n",
       "2       2023-09-17 05:25:28  12769269                  22              8336   \n",
       "3       2023-09-17 04:28:17  12769269                   1              9848   \n",
       "4       2023-09-17 04:37:57  12769269                   5              9838   \n",
       "...                     ...       ...                 ...               ...   \n",
       "1442288 2023-09-25 07:20:48  12810486                  11             13713   \n",
       "1442289 2023-09-25 07:21:04  12810486                  11             13713   \n",
       "1442290 2023-09-25 07:24:52  12810486                  13             13715   \n",
       "1442291 2023-09-25 07:27:10  12810486                  14             13716   \n",
       "1442292 2023-09-26 07:25:24  12810690                   2              7601   \n",
       "\n",
       "         DELAY  \n",
       "0          0.0  \n",
       "1         54.0  \n",
       "2        150.0  \n",
       "3          0.0  \n",
       "4        -17.0  \n",
       "...        ...  \n",
       "1442288  286.0  \n",
       "1442289  287.0  \n",
       "1442290  282.0  \n",
       "1442291  303.0  \n",
       "1442292    0.0  \n",
       "\n",
       "[1442293 rows x 11 columns]"
      ]
     },
     "execution_count": 5,
     "metadata": {},
     "output_type": "execute_result"
    }
   ],
   "source": [
    "# Import data as a Pandas Dataframe and preview.\n",
    "cs.execute(f\"SELECT * FROM {DATABASE_ROOT}.TRIP_DELAYS\")\n",
    "trip_delay_data = cs.fetch_pandas_all()\n",
    "trip_delay_data"
   ]
  },
  {
   "cell_type": "code",
   "execution_count": 18,
   "id": "ae676a5c",
   "metadata": {},
   "outputs": [
    {
     "name": "stdout",
     "output_type": "stream",
     "text": [
      "1837 records removed.\n"
     ]
    }
   ],
   "source": [
    "# Filter out records with NaN inputs or outputs.\n",
    "filtered_trip_delay_data = trip_delay_data.dropna(subset=['TIMESTAMP', 'DELAY'])\n",
    "print(f\"{len(trip_delay_data['TIMESTAMP']) - len(filtered_trip_delay_data['DELAY'])} records removed.\")"
   ]
  },
  {
   "cell_type": "code",
   "execution_count": 23,
   "id": "5cb10c4d",
   "metadata": {},
   "outputs": [
    {
     "data": {
      "text/plain": [
       "array(['2023-09-17T04:24:08.000000000', '2023-09-17T04:45:36.000000000',\n",
       "       '2023-09-17T05:25:28.000000000', ...,\n",
       "       '2023-09-25T07:24:52.000000000', '2023-09-25T07:27:10.000000000',\n",
       "       '2023-09-26T07:25:24.000000000'], dtype='datetime64[ns]')"
      ]
     },
     "execution_count": 23,
     "metadata": {},
     "output_type": "execute_result"
    }
   ],
   "source": [
    "# Subset features (inputs) and response (outputs).\n",
    "features = filtered_trip_delay_data['TIMESTAMP'].to_numpy()\n",
    "response = filtered_trip_delay_data['DELAY'].to_numpy()\n",
    "features"
   ]
  },
  {
   "cell_type": "code",
   "execution_count": 26,
   "id": "954a81e8",
   "metadata": {},
   "outputs": [
    {
     "data": {
      "text/plain": [
       "array([1694924648, 1694925936, 1694928328, ..., 1695626692, 1695626830,\n",
       "       1695713124])"
      ]
     },
     "execution_count": 26,
     "metadata": {},
     "output_type": "execute_result"
    }
   ],
   "source": [
    "# Transform features into a numeric value for easier use.\n",
    "def datetime_to_unix(input):\n",
    "    return input.astype('datetime64[s]').astype('int')\n",
    "\n",
    "transformed_features = np.apply_along_axis(datetime_to_unix, 0, features)\n",
    "transformed_features"
   ]
  },
  {
   "cell_type": "code",
   "execution_count": 31,
   "id": "41f851f6",
   "metadata": {},
   "outputs": [
    {
     "name": "stdout",
     "output_type": "stream",
     "text": [
      "Mean squared error: 50291.79\n",
      "Coefficient of determination: 0.00\n"
     ]
    }
   ],
   "source": [
    "# Split the data into training and testing sets.\n",
    "features_train, features_test, response_train, response_test = train_test_split(transformed_features, response, test_size=0.2, random_state=777)\n",
    "\n",
    "# Feed training data into the model.\n",
    "model = LinearRegression().fit(features_train.reshape(-1, 1), response_train)\n",
    "\n",
    "# Spit out predictions.\n",
    "preds = model.predict(features_test.reshape(-1, 1))\n",
    "\n",
    "# Evaluate the model. Remember, a low MSE is good, and an R2 of 1.0 is good.\n",
    "print(\"Mean squared error: %.2f\" % mean_squared_error(response_test, preds))\n",
    "print(\"Coefficient of determination: %.2f\" % r2_score(response_test, preds))\n"
   ]
  },
  {
   "cell_type": "code",
   "execution_count": null,
   "id": "52b83d94",
   "metadata": {},
   "outputs": [],
   "source": []
  }
 ],
 "metadata": {
  "kernelspec": {
   "display_name": "venv",
   "language": "python",
   "name": "python3"
  },
  "language_info": {
   "codemirror_mode": {
    "name": "ipython",
    "version": 3
   },
   "file_extension": ".py",
   "mimetype": "text/x-python",
   "name": "python",
   "nbconvert_exporter": "python",
   "pygments_lexer": "ipython3",
   "version": "3.8.10"
  }
 },
 "nbformat": 4,
 "nbformat_minor": 5
}
