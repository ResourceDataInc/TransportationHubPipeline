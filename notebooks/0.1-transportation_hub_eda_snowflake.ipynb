{
 "metadata": {
  "kernelspec": {
   "display_name": "Streamlit Notebook",
   "name": "streamlit"
  }
 },
 "nbformat_minor": 5,
 "nbformat": 4,
 "cells": [
  {
   "cell_type": "code",
   "id": "3775908f-ca36-4846-8f38-5adca39217f2",
   "metadata": {
    "language": "python",
    "name": "cell1",
    "collapsed": false
   },
   "source": "# Import python packages\nimport streamlit as st\nimport pandas as pd\n\nimport json\nimport matplotlib.pyplot as plt\nimport os\nimport seaborn as sns\nimport snowflake.connector\nfrom skimage import io\n\n# We can also use Snowpark for our analyses!\nfrom snowflake.snowpark.context import get_active_session\nsession = get_active_session()\n\nprint(session.connection.database)\nprint(session.connection.schema)\nprint(session.connection.role)",
   "execution_count": null,
   "outputs": []
  },
  {
   "cell_type": "markdown",
   "id": "2f95653b-5eab-4fdd-9e0d-570c801db441",
   "metadata": {
    "name": "cell4",
    "collapsed": false
   },
   "source": "### Stops Data\n\n**Description**: \n\nThis table details the stops on given routes used by the transportation system.\n\n**Notes**:\n* There are ~8,100 stops across 87 routes.\n* Many stops have identical locations, but correspond to different routes.\n* Identical stops are distinguished by their \"stop location ID\"."
  },
  {
   "cell_type": "code",
   "id": "8d50cbf4-0c8d-4950-86cb-114990437ac9",
   "metadata": {
    "language": "python",
    "name": "cell2",
    "collapsed": false
   },
   "source": "# Import data as a Pandas Dataframe and preview.\nDATABASE_ROOT = 'TRANSPORTATION_HUB.HUB'\n\nstops_data = session.sql(f\"SELECT * FROM {DATABASE_ROOT}.STOPS\").to_pandas()\nstops_data",
   "execution_count": null,
   "outputs": []
  },
  {
   "cell_type": "markdown",
   "id": "628b8355-a81b-456a-867b-24cce0e264db",
   "metadata": {
    "name": "cell3",
    "collapsed": false
   },
   "source": "### Route Shapes Data\n\n**Description**: \n\nThis table contains the geographic data for each route.\n\n**Notes**:\n* There are 87 unique routes with shape data.\n* However, routes often (but not always) have \"Inbound\" and \"Outbound\" variations.\n* This results in a total of 181 route shapes."
  },
  {
   "cell_type": "code",
   "id": "6d2e9111-4cba-438a-b578-ce159a5fa798",
   "metadata": {
    "language": "python",
    "name": "cell5",
    "collapsed": false
   },
   "outputs": [],
   "source": "# Import data as a Pandas Dataframe and preview.\nroute_shape_data = session.sql(f\"SELECT * FROM {DATABASE_ROOT}.ROUTE_SHAPES\").to_pandas()\nroute_shape_data",
   "execution_count": null
  },
  {
   "cell_type": "code",
   "id": "a412d1e5-323f-4a29-afe9-4aa1acd0fa98",
   "metadata": {
    "language": "python",
    "name": "cell6",
    "collapsed": false
   },
   "outputs": [],
   "source": "# Count the unique routes.\nprint(f\"There are {route_shape_data['ROUTE_ID'].unique().size} unique routes.\")",
   "execution_count": null
  },
  {
   "cell_type": "code",
   "id": "d04e7179-36ad-4b1e-9595-8d68c0ad67f4",
   "metadata": {
    "language": "python",
    "name": "cell7",
    "collapsed": false
   },
   "outputs": [],
   "source": "# Filter down to an arbitrary route.\narbitrary_route_data = route_shape_data.loc[route_shape_data['ROUTE_SHAPE_ID'] == 1]\narbitrary_route_data",
   "execution_count": null
  },
  {
   "cell_type": "code",
   "id": "551abf1e-9ae6-4abc-b738-9d17d01567d5",
   "metadata": {
    "language": "python",
    "name": "cell8",
    "collapsed": false
   },
   "outputs": [],
   "source": "# Extract that route's data and process into a data structure.\narbitrary_route_shape_data = json.loads(arbitrary_route_data['GEOGRAPHY'][0])\narbitrary_route_shape_data_coordinates = arbitrary_route_shape_data['coordinates']\nlong_vals = [x[0] for x in arbitrary_route_shape_data_coordinates]\nlat_vals = [x[1] for x in arbitrary_route_shape_data_coordinates]",
   "execution_count": null
  },
  {
   "cell_type": "code",
   "id": "3593bfcb-0f78-4114-a5ba-dd3a4b23cda7",
   "metadata": {
    "language": "python",
    "name": "cell9",
    "collapsed": false
   },
   "outputs": [],
   "source": "# Draw the route.\nplot = plt.plot(long_vals, lat_vals)\nplt.title('1-Vermont: Inbound')\nplot",
   "execution_count": null
  },
  {
   "cell_type": "code",
   "id": "df3bb20e-c5d8-451c-b24e-1207f33e53ec",
   "metadata": {
    "language": "sql",
    "name": "cell13",
    "collapsed": false
   },
   "outputs": [],
   "source": "USE ROLE SYSADMIN;\nCREATE OR REPLACE NETWORK RULE trimet_schedules_rule\n  MODE = EGRESS\n  TYPE = HOST_PORT\n  VALUE_LIST = ('trimet.org');\nUSE ROLE ACCOUNTADMIN;\nCREATE OR REPLACE EXTERNAL ACCESS INTEGRATION trimet_schedules_access_integration\n  ALLOWED_NETWORK_RULES = (trimet_schedules_rule)\n  ENABLED = true;\nGRANT USAGE ON INTEGRATION trimet_schedules_access_integration TO ROLE developer;\nUSE ROLE developer;\n\nshow integrations;",
   "execution_count": null
  },
  {
   "cell_type": "code",
   "id": "1f862706-5812-4ce9-9457-51d32884c615",
   "metadata": {
    "language": "python",
    "name": "cell10",
    "collapsed": false
   },
   "outputs": [],
   "source": "# NOTE this does not work in snowflake notebook because the integration above is not i\n# in scope???\n\n\n# Check against the actual route map\nplt.rcParams[\"figure.figsize\"] = [7.50, 3.50]\nplt.rcParams[\"figure.autolayout\"] = True\n\nf = \"https://trimet.org/schedules/img/001.png\"\na = io.imread(f)\n\nplt.imshow(a)\nplt.axis('off')\n\nplt.show()",
   "execution_count": null
  },
  {
   "cell_type": "code",
   "id": "f9ada448-b321-4010-85b4-e85c8129d43a",
   "metadata": {
    "language": "python",
    "name": "cell11",
    "collapsed": false
   },
   "outputs": [],
   "source": "# Import data as a Pandas Dataframe and preview.\ntrip_delay_data = session.sql(f\"SELECT * FROM {DATABASE_ROOT}.TRIP_DELAYS\").to_pandas()\ntrip_delay_data",
   "execution_count": null
  },
  {
   "cell_type": "markdown",
   "id": "955ad0a7-0966-4e69-8a10-bd6bbc4fa320",
   "metadata": {
    "name": "cell12",
    "collapsed": false
   },
   "source": "### Agencies (TBD)\n\n### Routes (TBD)\n\n### Stop Schedule (TBD)\n\n### Stop Times (TBD)\n\n### Trips (TBD)\n\n### Vehicles (TBD)\n\n### Vehicle Positions (TBD)"
  }
 ]
}